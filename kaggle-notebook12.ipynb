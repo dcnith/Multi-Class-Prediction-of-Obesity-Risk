{
 "cells": [
  {
   "cell_type": "code",
   "execution_count": 1,
   "id": "ebd7539c",
   "metadata": {
    "_cell_guid": "9237bd71-f6bf-4601-9de5-57477627ab2d",
    "_uuid": "50b4b229-aba6-4aa8-9898-260035772c52",
    "collapsed": false,
    "execution": {
     "iopub.execute_input": "2024-02-22T09:03:30.732192Z",
     "iopub.status.busy": "2024-02-22T09:03:30.731431Z",
     "iopub.status.idle": "2024-02-22T09:03:31.682091Z",
     "shell.execute_reply": "2024-02-22T09:03:31.680940Z"
    },
    "jupyter": {
     "outputs_hidden": false
    },
    "papermill": {
     "duration": 0.963146,
     "end_time": "2024-02-22T09:03:31.684860",
     "exception": false,
     "start_time": "2024-02-22T09:03:30.721714",
     "status": "completed"
    },
    "tags": []
   },
   "outputs": [
    {
     "name": "stdout",
     "output_type": "stream",
     "text": [
      "/kaggle/input/playground-series-s4e2/sample_submission.csv\n",
      "/kaggle/input/playground-series-s4e2/train.csv\n",
      "/kaggle/input/playground-series-s4e2/test.csv\n"
     ]
    }
   ],
   "source": [
    "# This Python 3 environment comes with many helpful analytics libraries installed\n",
    "# It is defined by the kaggle/python Docker image: https://github.com/kaggle/docker-python\n",
    "# For example, here's several helpful packages to load\n",
    "\n",
    "import numpy as np # linear algebra\n",
    "import pandas as pd # data processing, CSV file I/O (e.g. pd.read_csv)\n",
    "\n",
    "# Input data files are available in the read-only \"../input/\" directory\n",
    "# For example, running this (by clicking run or pressing Shift+Enter) will list all files under the input directory\n",
    "\n",
    "import os\n",
    "for dirname, _, filenames in os.walk('/kaggle/input'):\n",
    "    for filename in filenames:\n",
    "        print(os.path.join(dirname, filename))\n",
    "\n",
    "# You can write up to 20GB to the current directory (/kaggle/working/) that gets preserved as output when you create a version using \"Save & Run All\" \n",
    "# You can also write temporary files to /kaggle/temp/, but they won't be saved outside of the current session"
   ]
  },
  {
   "cell_type": "code",
   "execution_count": 2,
   "id": "c8250a98",
   "metadata": {
    "_cell_guid": "1ff48827-2543-439f-8794-10553df42c33",
    "_uuid": "49e1567e-531b-4196-9697-b4bf946c61ea",
    "collapsed": false,
    "execution": {
     "iopub.execute_input": "2024-02-22T09:03:31.700734Z",
     "iopub.status.busy": "2024-02-22T09:03:31.699943Z",
     "iopub.status.idle": "2024-02-22T09:03:31.924487Z",
     "shell.execute_reply": "2024-02-22T09:03:31.923293Z"
    },
    "jupyter": {
     "outputs_hidden": false
    },
    "papermill": {
     "duration": 0.236569,
     "end_time": "2024-02-22T09:03:31.928260",
     "exception": false,
     "start_time": "2024-02-22T09:03:31.691691",
     "status": "completed"
    },
    "tags": []
   },
   "outputs": [
    {
     "name": "stdout",
     "output_type": "stream",
     "text": [
      "Number of data points in train: 20758\n",
      "Number of features in train: 18\n"
     ]
    },
    {
     "data": {
      "text/html": [
       "<div>\n",
       "<style scoped>\n",
       "    .dataframe tbody tr th:only-of-type {\n",
       "        vertical-align: middle;\n",
       "    }\n",
       "\n",
       "    .dataframe tbody tr th {\n",
       "        vertical-align: top;\n",
       "    }\n",
       "\n",
       "    .dataframe thead th {\n",
       "        text-align: right;\n",
       "    }\n",
       "</style>\n",
       "<table border=\"1\" class=\"dataframe\">\n",
       "  <thead>\n",
       "    <tr style=\"text-align: right;\">\n",
       "      <th></th>\n",
       "      <th>id</th>\n",
       "      <th>Gender</th>\n",
       "      <th>Age</th>\n",
       "      <th>Height</th>\n",
       "      <th>Weight</th>\n",
       "      <th>family_history_with_overweight</th>\n",
       "      <th>FAVC</th>\n",
       "      <th>FCVC</th>\n",
       "      <th>NCP</th>\n",
       "      <th>CAEC</th>\n",
       "      <th>SMOKE</th>\n",
       "      <th>CH2O</th>\n",
       "      <th>SCC</th>\n",
       "      <th>FAF</th>\n",
       "      <th>TUE</th>\n",
       "      <th>CALC</th>\n",
       "      <th>MTRANS</th>\n",
       "    </tr>\n",
       "  </thead>\n",
       "  <tbody>\n",
       "    <tr>\n",
       "      <th>0</th>\n",
       "      <td>20758</td>\n",
       "      <td>Male</td>\n",
       "      <td>26.899886</td>\n",
       "      <td>1.848294</td>\n",
       "      <td>120.644178</td>\n",
       "      <td>yes</td>\n",
       "      <td>yes</td>\n",
       "      <td>2.938616</td>\n",
       "      <td>3.000000</td>\n",
       "      <td>Sometimes</td>\n",
       "      <td>no</td>\n",
       "      <td>2.825629</td>\n",
       "      <td>no</td>\n",
       "      <td>0.855400</td>\n",
       "      <td>0.000000</td>\n",
       "      <td>Sometimes</td>\n",
       "      <td>Public_Transportation</td>\n",
       "    </tr>\n",
       "    <tr>\n",
       "      <th>1</th>\n",
       "      <td>20759</td>\n",
       "      <td>Female</td>\n",
       "      <td>21.000000</td>\n",
       "      <td>1.600000</td>\n",
       "      <td>66.000000</td>\n",
       "      <td>yes</td>\n",
       "      <td>yes</td>\n",
       "      <td>2.000000</td>\n",
       "      <td>1.000000</td>\n",
       "      <td>Sometimes</td>\n",
       "      <td>no</td>\n",
       "      <td>3.000000</td>\n",
       "      <td>no</td>\n",
       "      <td>1.000000</td>\n",
       "      <td>0.000000</td>\n",
       "      <td>Sometimes</td>\n",
       "      <td>Public_Transportation</td>\n",
       "    </tr>\n",
       "    <tr>\n",
       "      <th>2</th>\n",
       "      <td>20760</td>\n",
       "      <td>Female</td>\n",
       "      <td>26.000000</td>\n",
       "      <td>1.643355</td>\n",
       "      <td>111.600553</td>\n",
       "      <td>yes</td>\n",
       "      <td>yes</td>\n",
       "      <td>3.000000</td>\n",
       "      <td>3.000000</td>\n",
       "      <td>Sometimes</td>\n",
       "      <td>no</td>\n",
       "      <td>2.621877</td>\n",
       "      <td>no</td>\n",
       "      <td>0.000000</td>\n",
       "      <td>0.250502</td>\n",
       "      <td>Sometimes</td>\n",
       "      <td>Public_Transportation</td>\n",
       "    </tr>\n",
       "    <tr>\n",
       "      <th>3</th>\n",
       "      <td>20761</td>\n",
       "      <td>Male</td>\n",
       "      <td>20.979254</td>\n",
       "      <td>1.553127</td>\n",
       "      <td>103.669116</td>\n",
       "      <td>yes</td>\n",
       "      <td>yes</td>\n",
       "      <td>2.000000</td>\n",
       "      <td>2.977909</td>\n",
       "      <td>Sometimes</td>\n",
       "      <td>no</td>\n",
       "      <td>2.786417</td>\n",
       "      <td>no</td>\n",
       "      <td>0.094851</td>\n",
       "      <td>0.000000</td>\n",
       "      <td>Sometimes</td>\n",
       "      <td>Public_Transportation</td>\n",
       "    </tr>\n",
       "    <tr>\n",
       "      <th>4</th>\n",
       "      <td>20762</td>\n",
       "      <td>Female</td>\n",
       "      <td>26.000000</td>\n",
       "      <td>1.627396</td>\n",
       "      <td>104.835346</td>\n",
       "      <td>yes</td>\n",
       "      <td>yes</td>\n",
       "      <td>3.000000</td>\n",
       "      <td>3.000000</td>\n",
       "      <td>Sometimes</td>\n",
       "      <td>no</td>\n",
       "      <td>2.653531</td>\n",
       "      <td>no</td>\n",
       "      <td>0.000000</td>\n",
       "      <td>0.741069</td>\n",
       "      <td>Sometimes</td>\n",
       "      <td>Public_Transportation</td>\n",
       "    </tr>\n",
       "  </tbody>\n",
       "</table>\n",
       "</div>"
      ],
      "text/plain": [
       "      id  Gender        Age    Height      Weight  \\\n",
       "0  20758    Male  26.899886  1.848294  120.644178   \n",
       "1  20759  Female  21.000000  1.600000   66.000000   \n",
       "2  20760  Female  26.000000  1.643355  111.600553   \n",
       "3  20761    Male  20.979254  1.553127  103.669116   \n",
       "4  20762  Female  26.000000  1.627396  104.835346   \n",
       "\n",
       "  family_history_with_overweight FAVC      FCVC       NCP       CAEC SMOKE  \\\n",
       "0                            yes  yes  2.938616  3.000000  Sometimes    no   \n",
       "1                            yes  yes  2.000000  1.000000  Sometimes    no   \n",
       "2                            yes  yes  3.000000  3.000000  Sometimes    no   \n",
       "3                            yes  yes  2.000000  2.977909  Sometimes    no   \n",
       "4                            yes  yes  3.000000  3.000000  Sometimes    no   \n",
       "\n",
       "       CH2O SCC       FAF       TUE       CALC                 MTRANS  \n",
       "0  2.825629  no  0.855400  0.000000  Sometimes  Public_Transportation  \n",
       "1  3.000000  no  1.000000  0.000000  Sometimes  Public_Transportation  \n",
       "2  2.621877  no  0.000000  0.250502  Sometimes  Public_Transportation  \n",
       "3  2.786417  no  0.094851  0.000000  Sometimes  Public_Transportation  \n",
       "4  2.653531  no  0.000000  0.741069  Sometimes  Public_Transportation  "
      ]
     },
     "execution_count": 2,
     "metadata": {},
     "output_type": "execute_result"
    }
   ],
   "source": [
    "TRAIN_PATH = \"/kaggle/input/playground-series-s4e2/train.csv\"\n",
    "train = pd.read_csv(TRAIN_PATH)\n",
    "train.head()\n",
    "# check the number of features and data points in train\n",
    "print(\"Number of data points in train: %d\" % train.shape[0])\n",
    "print(\"Number of features in train: %d\" % train.shape[1])\n",
    "\n",
    "TEST_PATH = \"/kaggle/input/playground-series-s4e2/test.csv\"\n",
    "test = pd.read_csv(TEST_PATH)\n",
    "test.head()"
   ]
  },
  {
   "cell_type": "code",
   "execution_count": 3,
   "id": "a3bb6c2f",
   "metadata": {
    "_cell_guid": "cf60ca35-27bb-4cb0-b62f-5aff91c66ce3",
    "_uuid": "f5e5f0c0-e541-4213-abf4-ad2395e892e5",
    "collapsed": false,
    "execution": {
     "iopub.execute_input": "2024-02-22T09:03:31.945112Z",
     "iopub.status.busy": "2024-02-22T09:03:31.944702Z",
     "iopub.status.idle": "2024-02-22T09:03:34.282582Z",
     "shell.execute_reply": "2024-02-22T09:03:34.281212Z"
    },
    "jupyter": {
     "outputs_hidden": false
    },
    "papermill": {
     "duration": 2.350354,
     "end_time": "2024-02-22T09:03:34.285932",
     "exception": false,
     "start_time": "2024-02-22T09:03:31.935578",
     "status": "completed"
    },
    "tags": []
   },
   "outputs": [],
   "source": [
    "import numpy as np\n",
    "import pandas as pd\n",
    "import matplotlib.pyplot as plt # for data visualization purposes\n",
    "import seaborn as sns # for statistical data visualization\n",
    "%matplotlib inline\n",
    "import imblearn\n",
    "import datetime"
   ]
  },
  {
   "cell_type": "code",
   "execution_count": 4,
   "id": "fffd9716",
   "metadata": {
    "_cell_guid": "aefe2843-52a5-4f85-aee8-a94bdc5e4a0d",
    "_uuid": "49d7ee0d-992f-4b17-83fb-e06994c2423a",
    "collapsed": false,
    "execution": {
     "iopub.execute_input": "2024-02-22T09:03:34.303361Z",
     "iopub.status.busy": "2024-02-22T09:03:34.302780Z",
     "iopub.status.idle": "2024-02-22T09:03:34.314010Z",
     "shell.execute_reply": "2024-02-22T09:03:34.312706Z"
    },
    "jupyter": {
     "outputs_hidden": false
    },
    "papermill": {
     "duration": 0.023495,
     "end_time": "2024-02-22T09:03:34.317073",
     "exception": false,
     "start_time": "2024-02-22T09:03:34.293578",
     "status": "completed"
    },
    "tags": []
   },
   "outputs": [],
   "source": [
    "data_train = train.copy()\n",
    "data_test = test.copy()"
   ]
  },
  {
   "cell_type": "code",
   "execution_count": 5,
   "id": "e679d928",
   "metadata": {
    "_cell_guid": "8c898c05-e21a-45ca-bbca-d0b6d921b0dc",
    "_uuid": "da1a8b10-e7d5-476f-8fee-c0367e63493a",
    "collapsed": false,
    "execution": {
     "iopub.execute_input": "2024-02-22T09:03:34.335040Z",
     "iopub.status.busy": "2024-02-22T09:03:34.334604Z",
     "iopub.status.idle": "2024-02-22T09:03:34.377974Z",
     "shell.execute_reply": "2024-02-22T09:03:34.376882Z"
    },
    "jupyter": {
     "outputs_hidden": false
    },
    "papermill": {
     "duration": 0.055617,
     "end_time": "2024-02-22T09:03:34.380904",
     "exception": false,
     "start_time": "2024-02-22T09:03:34.325287",
     "status": "completed"
    },
    "tags": []
   },
   "outputs": [
    {
     "name": "stdout",
     "output_type": "stream",
     "text": [
      "<class 'pandas.core.frame.DataFrame'>\n",
      "RangeIndex: 13840 entries, 0 to 13839\n",
      "Data columns (total 17 columns):\n",
      " #   Column                          Non-Null Count  Dtype  \n",
      "---  ------                          --------------  -----  \n",
      " 0   id                              13840 non-null  int64  \n",
      " 1   Gender                          13840 non-null  object \n",
      " 2   Age                             13840 non-null  float64\n",
      " 3   Height                          13840 non-null  float64\n",
      " 4   Weight                          13840 non-null  float64\n",
      " 5   family_history_with_overweight  13840 non-null  object \n",
      " 6   FAVC                            13840 non-null  object \n",
      " 7   FCVC                            13840 non-null  float64\n",
      " 8   NCP                             13840 non-null  float64\n",
      " 9   CAEC                            13840 non-null  object \n",
      " 10  SMOKE                           13840 non-null  object \n",
      " 11  CH2O                            13840 non-null  float64\n",
      " 12  SCC                             13840 non-null  object \n",
      " 13  FAF                             13840 non-null  float64\n",
      " 14  TUE                             13840 non-null  float64\n",
      " 15  CALC                            13840 non-null  object \n",
      " 16  MTRANS                          13840 non-null  object \n",
      "dtypes: float64(8), int64(1), object(8)\n",
      "memory usage: 1.8+ MB\n"
     ]
    }
   ],
   "source": [
    "data_test.info()"
   ]
  },
  {
   "cell_type": "code",
   "execution_count": 6,
   "id": "81adc4f3",
   "metadata": {
    "_cell_guid": "513d66dc-f94c-4c63-8aa6-0ce569fa89ff",
    "_uuid": "bc51c919-c6a0-4908-a4b5-b4760081cce6",
    "collapsed": false,
    "execution": {
     "iopub.execute_input": "2024-02-22T09:03:34.399136Z",
     "iopub.status.busy": "2024-02-22T09:03:34.398728Z",
     "iopub.status.idle": "2024-02-22T09:03:34.442407Z",
     "shell.execute_reply": "2024-02-22T09:03:34.441091Z"
    },
    "jupyter": {
     "outputs_hidden": false
    },
    "papermill": {
     "duration": 0.056477,
     "end_time": "2024-02-22T09:03:34.445693",
     "exception": false,
     "start_time": "2024-02-22T09:03:34.389216",
     "status": "completed"
    },
    "tags": []
   },
   "outputs": [],
   "source": [
    "data_train.drop(['id'], axis=1, inplace=True)\n",
    "\n",
    "data_train['Gender'] = data_train['Gender'].map({'Male': 1, 'Female': 0})\n",
    "data_train['family_history_with_overweight'] = data_train['family_history_with_overweight'].map({'yes': 1, 'no': 0})\n",
    "data_train['FAVC'] = data_train['FAVC'].map({'yes': 1, 'no': 0})\n",
    "data_train['CAEC'] = data_train['CAEC'].map({'no': 0, 'Sometimes': 1, 'Frequently': 2, 'Always': 3})\n",
    "data_train['SMOKE'] = data_train['SMOKE'].map({'yes': 1, 'no': 0})\n",
    "data_train['SCC'] = data_train['SCC'].map({'yes': 1, 'no': 0})\n",
    "data_train['CALC'] = data_train['CALC'].map({'no': 0, 'Sometimes': 1, 'Frequently': 2})\n",
    "data_train['MTRANS'] = data_train['MTRANS'].map({'Bike': 1, 'Motorbike': 2, 'Walking': 3, 'Automobile': 4, 'Public_Transportation': 5})"
   ]
  },
  {
   "cell_type": "code",
   "execution_count": 7,
   "id": "097aaa43",
   "metadata": {
    "_cell_guid": "d4e27326-5576-4d26-be84-fdf26e4e0673",
    "_uuid": "48108792-61fb-4b22-857c-298c70f4a94c",
    "collapsed": false,
    "execution": {
     "iopub.execute_input": "2024-02-22T09:03:34.464552Z",
     "iopub.status.busy": "2024-02-22T09:03:34.464089Z",
     "iopub.status.idle": "2024-02-22T09:03:34.499996Z",
     "shell.execute_reply": "2024-02-22T09:03:34.498759Z"
    },
    "jupyter": {
     "outputs_hidden": false
    },
    "papermill": {
     "duration": 0.049111,
     "end_time": "2024-02-22T09:03:34.503035",
     "exception": false,
     "start_time": "2024-02-22T09:03:34.453924",
     "status": "completed"
    },
    "tags": []
   },
   "outputs": [],
   "source": [
    "data_test.drop(['id'], axis=1, inplace=True)\n",
    "\n",
    "data_test['Gender'] = data_test['Gender'].map({'Male': 1, 'Female': 0})\n",
    "data_test['family_history_with_overweight'] = data_test['family_history_with_overweight'].map({'yes': 1, 'no': 0})\n",
    "data_test['FAVC'] = data_test['FAVC'].map({'yes': 1, 'no': 0})\n",
    "data_test['CAEC'] = data_test['CAEC'].map({'no': 0, 'Sometimes': 1, 'Frequently': 2, 'Always': 3})\n",
    "data_test['SMOKE'] = data_test['SMOKE'].map({'yes': 1, 'no': 0})\n",
    "data_test['SCC'] = data_test['SCC'].map({'yes': 1, 'no': 0})\n",
    "data_test['CALC'] = data_test['CALC'].map({'no': 0, 'Sometimes': 1, 'Frequently': 2})\n",
    "data_test['MTRANS'] = data_test['MTRANS'].map({'Bike': 1, 'Motorbike': 2, 'Walking': 3, 'Automobile': 4, 'Public_Transportation': 5})"
   ]
  },
  {
   "cell_type": "code",
   "execution_count": 8,
   "id": "d78cb612",
   "metadata": {
    "_cell_guid": "fc163c69-2578-483f-86f4-cf685409fb28",
    "_uuid": "f192bbdd-2874-4f1e-a84a-be0b5bc42f9e",
    "collapsed": false,
    "execution": {
     "iopub.execute_input": "2024-02-22T09:03:34.521786Z",
     "iopub.status.busy": "2024-02-22T09:03:34.520516Z",
     "iopub.status.idle": "2024-02-22T09:03:34.527009Z",
     "shell.execute_reply": "2024-02-22T09:03:34.525734Z"
    },
    "jupyter": {
     "outputs_hidden": false
    },
    "papermill": {
     "duration": 0.018999,
     "end_time": "2024-02-22T09:03:34.530097",
     "exception": false,
     "start_time": "2024-02-22T09:03:34.511098",
     "status": "completed"
    },
    "tags": []
   },
   "outputs": [],
   "source": [
    "data_test['CALC'] = data_test['CALC'].fillna(data_train['CALC'].mean())"
   ]
  },
  {
   "cell_type": "code",
   "execution_count": 9,
   "id": "213182a0",
   "metadata": {
    "_cell_guid": "c4045702-58c1-4e28-9d23-8969e1da3a36",
    "_uuid": "711b20f8-061a-4b87-b55f-2b50f70d41a8",
    "collapsed": false,
    "execution": {
     "iopub.execute_input": "2024-02-22T09:03:34.548395Z",
     "iopub.status.busy": "2024-02-22T09:03:34.547946Z",
     "iopub.status.idle": "2024-02-22T09:03:34.566285Z",
     "shell.execute_reply": "2024-02-22T09:03:34.564764Z"
    },
    "jupyter": {
     "outputs_hidden": false
    },
    "papermill": {
     "duration": 0.031434,
     "end_time": "2024-02-22T09:03:34.569308",
     "exception": false,
     "start_time": "2024-02-22T09:03:34.537874",
     "status": "completed"
    },
    "tags": []
   },
   "outputs": [],
   "source": [
    "from sklearn.preprocessing import LabelEncoder\n",
    "le2=LabelEncoder()\n",
    "X_train=data_train.drop('NObeyesdad',axis=1)\n",
    "Y_train=le2.fit_transform(data_train['NObeyesdad'])"
   ]
  },
  {
   "cell_type": "code",
   "execution_count": 10,
   "id": "7027987a",
   "metadata": {
    "execution": {
     "iopub.execute_input": "2024-02-22T09:03:34.587744Z",
     "iopub.status.busy": "2024-02-22T09:03:34.587194Z",
     "iopub.status.idle": "2024-02-22T09:03:34.616194Z",
     "shell.execute_reply": "2024-02-22T09:03:34.614580Z"
    },
    "papermill": {
     "duration": 0.04181,
     "end_time": "2024-02-22T09:03:34.619241",
     "exception": false,
     "start_time": "2024-02-22T09:03:34.577431",
     "status": "completed"
    },
    "tags": []
   },
   "outputs": [],
   "source": [
    "from sklearn.preprocessing import StandardScaler\n",
    "scaler = StandardScaler()\n",
    "X1 = scaler.fit_transform(X_train)"
   ]
  },
  {
   "cell_type": "code",
   "execution_count": 11,
   "id": "bd6985c6",
   "metadata": {
    "execution": {
     "iopub.execute_input": "2024-02-22T09:03:34.637113Z",
     "iopub.status.busy": "2024-02-22T09:03:34.636639Z",
     "iopub.status.idle": "2024-02-22T09:03:34.735562Z",
     "shell.execute_reply": "2024-02-22T09:03:34.733827Z"
    },
    "papermill": {
     "duration": 0.112724,
     "end_time": "2024-02-22T09:03:34.739989",
     "exception": false,
     "start_time": "2024-02-22T09:03:34.627265",
     "status": "completed"
    },
    "tags": []
   },
   "outputs": [],
   "source": [
    "from sklearn.discriminant_analysis import LinearDiscriminantAnalysis\n",
    "lda = LinearDiscriminantAnalysis()\n",
    "X_train_lda = lda.fit_transform(X1, Y_train)"
   ]
  },
  {
   "cell_type": "code",
   "execution_count": 12,
   "id": "25a00f9b",
   "metadata": {
    "_cell_guid": "f9b481e3-3029-48a1-b45f-9fe6d541f7a8",
    "_uuid": "53aed932-8359-4a65-a926-c0a9a93ecfb7",
    "collapsed": false,
    "execution": {
     "iopub.execute_input": "2024-02-22T09:03:34.813135Z",
     "iopub.status.busy": "2024-02-22T09:03:34.812008Z",
     "iopub.status.idle": "2024-02-22T09:03:34.824682Z",
     "shell.execute_reply": "2024-02-22T09:03:34.822716Z"
    },
    "jupyter": {
     "outputs_hidden": false
    },
    "papermill": {
     "duration": 0.057067,
     "end_time": "2024-02-22T09:03:34.829211",
     "exception": false,
     "start_time": "2024-02-22T09:03:34.772144",
     "status": "completed"
    },
    "tags": []
   },
   "outputs": [],
   "source": [
    "from sklearn.linear_model import LogisticRegression\n",
    "from sklearn.model_selection import StratifiedKFold\n",
    "from sklearn.model_selection import cross_val_score\n",
    "from sklearn.model_selection import cross_val_predict\n",
    "from sklearn.metrics import f1_score\n",
    "from sklearn.metrics import confusion_matrix\n",
    "from sklearn.metrics import classification_report\n",
    "\n",
    "#classifier = LogisticRegression(penalty='l2', C=0.6, solver='liblinear', random_state=42)\n",
    "classifier = LogisticRegression(multi_class='multinomial', random_state=42, max_iter=1000)"
   ]
  },
  {
   "cell_type": "code",
   "execution_count": 13,
   "id": "77720c75",
   "metadata": {
    "execution": {
     "iopub.execute_input": "2024-02-22T09:03:34.860463Z",
     "iopub.status.busy": "2024-02-22T09:03:34.860031Z",
     "iopub.status.idle": "2024-02-22T09:03:35.055275Z",
     "shell.execute_reply": "2024-02-22T09:03:35.053912Z"
    },
    "papermill": {
     "duration": 0.21146,
     "end_time": "2024-02-22T09:03:35.058765",
     "exception": false,
     "start_time": "2024-02-22T09:03:34.847305",
     "status": "completed"
    },
    "tags": []
   },
   "outputs": [],
   "source": [
    "import xgboost as xgb\n",
    "#xgb_model = xgb.XGBClassifier(objective=\"binary:logistic\", random_state=42)\n",
    "\n",
    "xgb_model = xgb.XGBClassifier(objective='multi:softmax', random_state=42)"
   ]
  },
  {
   "cell_type": "code",
   "execution_count": 14,
   "id": "a413e231",
   "metadata": {
    "_cell_guid": "877aef82-a452-4b75-be98-148c09a7063e",
    "_uuid": "73da0290-bdcf-46d0-b910-e5487b7abaeb",
    "collapsed": false,
    "execution": {
     "iopub.execute_input": "2024-02-22T09:03:35.077929Z",
     "iopub.status.busy": "2024-02-22T09:03:35.077431Z",
     "iopub.status.idle": "2024-02-22T09:03:37.245628Z",
     "shell.execute_reply": "2024-02-22T09:03:37.244710Z"
    },
    "jupyter": {
     "outputs_hidden": false
    },
    "papermill": {
     "duration": 2.180746,
     "end_time": "2024-02-22T09:03:37.248127",
     "exception": false,
     "start_time": "2024-02-22T09:03:35.067381",
     "status": "completed"
    },
    "tags": []
   },
   "outputs": [
    {
     "data": {
      "text/html": [
       "<style>#sk-container-id-1 {color: black;background-color: white;}#sk-container-id-1 pre{padding: 0;}#sk-container-id-1 div.sk-toggleable {background-color: white;}#sk-container-id-1 label.sk-toggleable__label {cursor: pointer;display: block;width: 100%;margin-bottom: 0;padding: 0.3em;box-sizing: border-box;text-align: center;}#sk-container-id-1 label.sk-toggleable__label-arrow:before {content: \"▸\";float: left;margin-right: 0.25em;color: #696969;}#sk-container-id-1 label.sk-toggleable__label-arrow:hover:before {color: black;}#sk-container-id-1 div.sk-estimator:hover label.sk-toggleable__label-arrow:before {color: black;}#sk-container-id-1 div.sk-toggleable__content {max-height: 0;max-width: 0;overflow: hidden;text-align: left;background-color: #f0f8ff;}#sk-container-id-1 div.sk-toggleable__content pre {margin: 0.2em;color: black;border-radius: 0.25em;background-color: #f0f8ff;}#sk-container-id-1 input.sk-toggleable__control:checked~div.sk-toggleable__content {max-height: 200px;max-width: 100%;overflow: auto;}#sk-container-id-1 input.sk-toggleable__control:checked~label.sk-toggleable__label-arrow:before {content: \"▾\";}#sk-container-id-1 div.sk-estimator input.sk-toggleable__control:checked~label.sk-toggleable__label {background-color: #d4ebff;}#sk-container-id-1 div.sk-label input.sk-toggleable__control:checked~label.sk-toggleable__label {background-color: #d4ebff;}#sk-container-id-1 input.sk-hidden--visually {border: 0;clip: rect(1px 1px 1px 1px);clip: rect(1px, 1px, 1px, 1px);height: 1px;margin: -1px;overflow: hidden;padding: 0;position: absolute;width: 1px;}#sk-container-id-1 div.sk-estimator {font-family: monospace;background-color: #f0f8ff;border: 1px dotted black;border-radius: 0.25em;box-sizing: border-box;margin-bottom: 0.5em;}#sk-container-id-1 div.sk-estimator:hover {background-color: #d4ebff;}#sk-container-id-1 div.sk-parallel-item::after {content: \"\";width: 100%;border-bottom: 1px solid gray;flex-grow: 1;}#sk-container-id-1 div.sk-label:hover label.sk-toggleable__label {background-color: #d4ebff;}#sk-container-id-1 div.sk-serial::before {content: \"\";position: absolute;border-left: 1px solid gray;box-sizing: border-box;top: 0;bottom: 0;left: 50%;z-index: 0;}#sk-container-id-1 div.sk-serial {display: flex;flex-direction: column;align-items: center;background-color: white;padding-right: 0.2em;padding-left: 0.2em;position: relative;}#sk-container-id-1 div.sk-item {position: relative;z-index: 1;}#sk-container-id-1 div.sk-parallel {display: flex;align-items: stretch;justify-content: center;background-color: white;position: relative;}#sk-container-id-1 div.sk-item::before, #sk-container-id-1 div.sk-parallel-item::before {content: \"\";position: absolute;border-left: 1px solid gray;box-sizing: border-box;top: 0;bottom: 0;left: 50%;z-index: -1;}#sk-container-id-1 div.sk-parallel-item {display: flex;flex-direction: column;z-index: 1;position: relative;background-color: white;}#sk-container-id-1 div.sk-parallel-item:first-child::after {align-self: flex-end;width: 50%;}#sk-container-id-1 div.sk-parallel-item:last-child::after {align-self: flex-start;width: 50%;}#sk-container-id-1 div.sk-parallel-item:only-child::after {width: 0;}#sk-container-id-1 div.sk-dashed-wrapped {border: 1px dashed gray;margin: 0 0.4em 0.5em 0.4em;box-sizing: border-box;padding-bottom: 0.4em;background-color: white;}#sk-container-id-1 div.sk-label label {font-family: monospace;font-weight: bold;display: inline-block;line-height: 1.2em;}#sk-container-id-1 div.sk-label-container {text-align: center;}#sk-container-id-1 div.sk-container {/* jupyter's `normalize.less` sets `[hidden] { display: none; }` but bootstrap.min.css set `[hidden] { display: none !important; }` so we also need the `!important` here to be able to override the default hidden behavior on the sphinx rendered scikit-learn.org. See: https://github.com/scikit-learn/scikit-learn/issues/21755 */display: inline-block !important;position: relative;}#sk-container-id-1 div.sk-text-repr-fallback {display: none;}</style><div id=\"sk-container-id-1\" class=\"sk-top-container\"><div class=\"sk-text-repr-fallback\"><pre>XGBClassifier(base_score=None, booster=None, callbacks=None,\n",
       "              colsample_bylevel=None, colsample_bynode=None,\n",
       "              colsample_bytree=None, device=None, early_stopping_rounds=None,\n",
       "              enable_categorical=False, eval_metric=None, feature_types=None,\n",
       "              gamma=None, grow_policy=None, importance_type=None,\n",
       "              interaction_constraints=None, learning_rate=None, max_bin=None,\n",
       "              max_cat_threshold=None, max_cat_to_onehot=None,\n",
       "              max_delta_step=None, max_depth=None, max_leaves=None,\n",
       "              min_child_weight=None, missing=nan, monotone_constraints=None,\n",
       "              multi_strategy=None, n_estimators=None, n_jobs=None,\n",
       "              num_parallel_tree=None, objective=&#x27;multi:softmax&#x27;, ...)</pre><b>In a Jupyter environment, please rerun this cell to show the HTML representation or trust the notebook. <br />On GitHub, the HTML representation is unable to render, please try loading this page with nbviewer.org.</b></div><div class=\"sk-container\" hidden><div class=\"sk-item\"><div class=\"sk-estimator sk-toggleable\"><input class=\"sk-toggleable__control sk-hidden--visually\" id=\"sk-estimator-id-1\" type=\"checkbox\" checked><label for=\"sk-estimator-id-1\" class=\"sk-toggleable__label sk-toggleable__label-arrow\">XGBClassifier</label><div class=\"sk-toggleable__content\"><pre>XGBClassifier(base_score=None, booster=None, callbacks=None,\n",
       "              colsample_bylevel=None, colsample_bynode=None,\n",
       "              colsample_bytree=None, device=None, early_stopping_rounds=None,\n",
       "              enable_categorical=False, eval_metric=None, feature_types=None,\n",
       "              gamma=None, grow_policy=None, importance_type=None,\n",
       "              interaction_constraints=None, learning_rate=None, max_bin=None,\n",
       "              max_cat_threshold=None, max_cat_to_onehot=None,\n",
       "              max_delta_step=None, max_depth=None, max_leaves=None,\n",
       "              min_child_weight=None, missing=nan, monotone_constraints=None,\n",
       "              multi_strategy=None, n_estimators=None, n_jobs=None,\n",
       "              num_parallel_tree=None, objective=&#x27;multi:softmax&#x27;, ...)</pre></div></div></div></div></div>"
      ],
      "text/plain": [
       "XGBClassifier(base_score=None, booster=None, callbacks=None,\n",
       "              colsample_bylevel=None, colsample_bynode=None,\n",
       "              colsample_bytree=None, device=None, early_stopping_rounds=None,\n",
       "              enable_categorical=False, eval_metric=None, feature_types=None,\n",
       "              gamma=None, grow_policy=None, importance_type=None,\n",
       "              interaction_constraints=None, learning_rate=None, max_bin=None,\n",
       "              max_cat_threshold=None, max_cat_to_onehot=None,\n",
       "              max_delta_step=None, max_depth=None, max_leaves=None,\n",
       "              min_child_weight=None, missing=nan, monotone_constraints=None,\n",
       "              multi_strategy=None, n_estimators=None, n_jobs=None,\n",
       "              num_parallel_tree=None, objective='multi:softmax', ...)"
      ]
     },
     "execution_count": 14,
     "metadata": {},
     "output_type": "execute_result"
    }
   ],
   "source": [
    "xgb_model.fit(X_train_lda, Y_train)"
   ]
  },
  {
   "cell_type": "code",
   "execution_count": 15,
   "id": "f133e9d6",
   "metadata": {
    "_cell_guid": "705dc400-81f9-4c96-8cb8-961acae4bfe6",
    "_uuid": "4306d393-5f37-4282-9b33-dacd02356bf5",
    "collapsed": false,
    "execution": {
     "iopub.execute_input": "2024-02-22T09:03:37.269504Z",
     "iopub.status.busy": "2024-02-22T09:03:37.268291Z",
     "iopub.status.idle": "2024-02-22T09:03:37.279394Z",
     "shell.execute_reply": "2024-02-22T09:03:37.277987Z"
    },
    "jupyter": {
     "outputs_hidden": false
    },
    "papermill": {
     "duration": 0.026031,
     "end_time": "2024-02-22T09:03:37.282628",
     "exception": false,
     "start_time": "2024-02-22T09:03:37.256597",
     "status": "completed"
    },
    "tags": []
   },
   "outputs": [],
   "source": [
    "data_test_scaled = scaler.transform(data_test)"
   ]
  },
  {
   "cell_type": "code",
   "execution_count": 16,
   "id": "1f21f26b",
   "metadata": {
    "_cell_guid": "f9cf26e4-9a41-404c-8e78-c6481ae1048b",
    "_uuid": "8a4b8263-12a7-4a3c-a068-cc3abd504a7e",
    "collapsed": false,
    "execution": {
     "iopub.execute_input": "2024-02-22T09:03:37.305713Z",
     "iopub.status.busy": "2024-02-22T09:03:37.304673Z",
     "iopub.status.idle": "2024-02-22T09:03:37.314198Z",
     "shell.execute_reply": "2024-02-22T09:03:37.312710Z"
    },
    "jupyter": {
     "outputs_hidden": false
    },
    "papermill": {
     "duration": 0.025861,
     "end_time": "2024-02-22T09:03:37.319154",
     "exception": false,
     "start_time": "2024-02-22T09:03:37.293293",
     "status": "completed"
    },
    "tags": []
   },
   "outputs": [],
   "source": [
    "X_test_lda = lda.transform(data_test_scaled)"
   ]
  },
  {
   "cell_type": "code",
   "execution_count": 17,
   "id": "518f5fcf",
   "metadata": {
    "_cell_guid": "03793078-b86f-44a5-acba-e6d978a3d009",
    "_uuid": "e6e13251-4beb-4349-8517-d6464cafe944",
    "collapsed": false,
    "execution": {
     "iopub.execute_input": "2024-02-22T09:03:37.360426Z",
     "iopub.status.busy": "2024-02-22T09:03:37.359777Z",
     "iopub.status.idle": "2024-02-22T09:03:39.269922Z",
     "shell.execute_reply": "2024-02-22T09:03:39.269013Z"
    },
    "jupyter": {
     "outputs_hidden": false
    },
    "papermill": {
     "duration": 1.934418,
     "end_time": "2024-02-22T09:03:39.272759",
     "exception": false,
     "start_time": "2024-02-22T09:03:37.338341",
     "status": "completed"
    },
    "tags": []
   },
   "outputs": [],
   "source": [
    "xgb_model.fit(X_train_lda, Y_train)\n",
    "Y_test_pred = xgb_model.predict(X_test_lda)\n",
    "\n",
    "predictions=le2.inverse_transform(Y_test_pred)"
   ]
  },
  {
   "cell_type": "code",
   "execution_count": 18,
   "id": "d9d62efd",
   "metadata": {
    "_cell_guid": "f623e104-f96d-4b38-9fa1-b38b702db3fe",
    "_uuid": "84d68eec-fc2f-4b5c-8a28-e1bca99e3a1d",
    "collapsed": false,
    "execution": {
     "iopub.execute_input": "2024-02-22T09:03:39.293516Z",
     "iopub.status.busy": "2024-02-22T09:03:39.293137Z",
     "iopub.status.idle": "2024-02-22T09:03:39.357395Z",
     "shell.execute_reply": "2024-02-22T09:03:39.355858Z"
    },
    "jupyter": {
     "outputs_hidden": false
    },
    "papermill": {
     "duration": 0.077496,
     "end_time": "2024-02-22T09:03:39.360536",
     "exception": false,
     "start_time": "2024-02-22T09:03:39.283040",
     "status": "completed"
    },
    "tags": []
   },
   "outputs": [
    {
     "data": {
      "text/html": [
       "<div>\n",
       "<style scoped>\n",
       "    .dataframe tbody tr th:only-of-type {\n",
       "        vertical-align: middle;\n",
       "    }\n",
       "\n",
       "    .dataframe tbody tr th {\n",
       "        vertical-align: top;\n",
       "    }\n",
       "\n",
       "    .dataframe thead th {\n",
       "        text-align: right;\n",
       "    }\n",
       "</style>\n",
       "<table border=\"1\" class=\"dataframe\">\n",
       "  <thead>\n",
       "    <tr style=\"text-align: right;\">\n",
       "      <th></th>\n",
       "      <th>id</th>\n",
       "      <th>NObeyesdad</th>\n",
       "    </tr>\n",
       "  </thead>\n",
       "  <tbody>\n",
       "    <tr>\n",
       "      <th>0</th>\n",
       "      <td>20758</td>\n",
       "      <td>Obesity_Type_II</td>\n",
       "    </tr>\n",
       "    <tr>\n",
       "      <th>1</th>\n",
       "      <td>20759</td>\n",
       "      <td>Overweight_Level_I</td>\n",
       "    </tr>\n",
       "    <tr>\n",
       "      <th>2</th>\n",
       "      <td>20760</td>\n",
       "      <td>Obesity_Type_III</td>\n",
       "    </tr>\n",
       "    <tr>\n",
       "      <th>3</th>\n",
       "      <td>20761</td>\n",
       "      <td>Obesity_Type_I</td>\n",
       "    </tr>\n",
       "    <tr>\n",
       "      <th>4</th>\n",
       "      <td>20762</td>\n",
       "      <td>Obesity_Type_III</td>\n",
       "    </tr>\n",
       "  </tbody>\n",
       "</table>\n",
       "</div>"
      ],
      "text/plain": [
       "      id          NObeyesdad\n",
       "0  20758     Obesity_Type_II\n",
       "1  20759  Overweight_Level_I\n",
       "2  20760    Obesity_Type_III\n",
       "3  20761      Obesity_Type_I\n",
       "4  20762    Obesity_Type_III"
      ]
     },
     "execution_count": 18,
     "metadata": {},
     "output_type": "execute_result"
    }
   ],
   "source": [
    "submission = pd.read_csv(\"/kaggle/input/playground-series-s4e2/sample_submission.csv\")\n",
    "submission[\"NObeyesdad\"] = predictions\n",
    "submission.to_csv(\"submission2.csv\", index=False)\n",
    "submission.head()"
   ]
  }
 ],
 "metadata": {
  "kaggle": {
   "accelerator": "none",
   "dataSources": [
    {
     "databundleVersionId": 7609535,
     "sourceId": 68479,
     "sourceType": "competition"
    }
   ],
   "dockerImageVersionId": 30646,
   "isGpuEnabled": false,
   "isInternetEnabled": true,
   "language": "python",
   "sourceType": "notebook"
  },
  "kernelspec": {
   "display_name": "Python 3",
   "language": "python",
   "name": "python3"
  },
  "language_info": {
   "codemirror_mode": {
    "name": "ipython",
    "version": 3
   },
   "file_extension": ".py",
   "mimetype": "text/x-python",
   "name": "python",
   "nbconvert_exporter": "python",
   "pygments_lexer": "ipython3",
   "version": "3.10.13"
  },
  "papermill": {
   "default_parameters": {},
   "duration": 12.680149,
   "end_time": "2024-02-22T09:03:40.094432",
   "environment_variables": {},
   "exception": null,
   "input_path": "__notebook__.ipynb",
   "output_path": "__notebook__.ipynb",
   "parameters": {},
   "start_time": "2024-02-22T09:03:27.414283",
   "version": "2.5.0"
  }
 },
 "nbformat": 4,
 "nbformat_minor": 5
}
