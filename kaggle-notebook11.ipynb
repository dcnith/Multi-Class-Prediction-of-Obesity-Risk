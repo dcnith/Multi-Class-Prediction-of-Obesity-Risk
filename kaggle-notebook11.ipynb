{
 "cells": [
  {
   "cell_type": "code",
   "execution_count": 1,
   "id": "8d406382",
   "metadata": {
    "_cell_guid": "b1076dfc-b9ad-4769-8c92-a6c4dae69d19",
    "_uuid": "8f2839f25d086af736a60e9eeb907d3b93b6e0e5",
    "execution": {
     "iopub.execute_input": "2024-02-21T12:20:22.202763Z",
     "iopub.status.busy": "2024-02-21T12:20:22.202299Z",
     "iopub.status.idle": "2024-02-21T12:20:23.152767Z",
     "shell.execute_reply": "2024-02-21T12:20:23.151745Z"
    },
    "papermill": {
     "duration": 0.962116,
     "end_time": "2024-02-21T12:20:23.155803",
     "exception": false,
     "start_time": "2024-02-21T12:20:22.193687",
     "status": "completed"
    },
    "tags": []
   },
   "outputs": [
    {
     "name": "stdout",
     "output_type": "stream",
     "text": [
      "/kaggle/input/playground-series-s4e2/sample_submission.csv\n",
      "/kaggle/input/playground-series-s4e2/train.csv\n",
      "/kaggle/input/playground-series-s4e2/test.csv\n"
     ]
    }
   ],
   "source": [
    "# This Python 3 environment comes with many helpful analytics libraries installed\n",
    "# It is defined by the kaggle/python Docker image: https://github.com/kaggle/docker-python\n",
    "# For example, here's several helpful packages to load\n",
    "\n",
    "import numpy as np # linear algebra\n",
    "import pandas as pd # data processing, CSV file I/O (e.g. pd.read_csv)\n",
    "\n",
    "# Input data files are available in the read-only \"../input/\" directory\n",
    "# For example, running this (by clicking run or pressing Shift+Enter) will list all files under the input directory\n",
    "\n",
    "import os\n",
    "for dirname, _, filenames in os.walk('/kaggle/input'):\n",
    "    for filename in filenames:\n",
    "        print(os.path.join(dirname, filename))\n",
    "\n",
    "# You can write up to 20GB to the current directory (/kaggle/working/) that gets preserved as output when you create a version using \"Save & Run All\" \n",
    "# You can also write temporary files to /kaggle/temp/, but they won't be saved outside of the current session"
   ]
  },
  {
   "cell_type": "code",
   "execution_count": 2,
   "id": "e19f65ed",
   "metadata": {
    "execution": {
     "iopub.execute_input": "2024-02-21T12:20:23.170813Z",
     "iopub.status.busy": "2024-02-21T12:20:23.169992Z",
     "iopub.status.idle": "2024-02-21T12:20:23.383858Z",
     "shell.execute_reply": "2024-02-21T12:20:23.382581Z"
    },
    "papermill": {
     "duration": 0.224444,
     "end_time": "2024-02-21T12:20:23.386872",
     "exception": false,
     "start_time": "2024-02-21T12:20:23.162428",
     "status": "completed"
    },
    "tags": []
   },
   "outputs": [
    {
     "name": "stdout",
     "output_type": "stream",
     "text": [
      "Number of data points in train: 20758\n",
      "Number of features in train: 18\n"
     ]
    },
    {
     "data": {
      "text/html": [
       "<div>\n",
       "<style scoped>\n",
       "    .dataframe tbody tr th:only-of-type {\n",
       "        vertical-align: middle;\n",
       "    }\n",
       "\n",
       "    .dataframe tbody tr th {\n",
       "        vertical-align: top;\n",
       "    }\n",
       "\n",
       "    .dataframe thead th {\n",
       "        text-align: right;\n",
       "    }\n",
       "</style>\n",
       "<table border=\"1\" class=\"dataframe\">\n",
       "  <thead>\n",
       "    <tr style=\"text-align: right;\">\n",
       "      <th></th>\n",
       "      <th>id</th>\n",
       "      <th>Gender</th>\n",
       "      <th>Age</th>\n",
       "      <th>Height</th>\n",
       "      <th>Weight</th>\n",
       "      <th>family_history_with_overweight</th>\n",
       "      <th>FAVC</th>\n",
       "      <th>FCVC</th>\n",
       "      <th>NCP</th>\n",
       "      <th>CAEC</th>\n",
       "      <th>SMOKE</th>\n",
       "      <th>CH2O</th>\n",
       "      <th>SCC</th>\n",
       "      <th>FAF</th>\n",
       "      <th>TUE</th>\n",
       "      <th>CALC</th>\n",
       "      <th>MTRANS</th>\n",
       "    </tr>\n",
       "  </thead>\n",
       "  <tbody>\n",
       "    <tr>\n",
       "      <th>0</th>\n",
       "      <td>20758</td>\n",
       "      <td>Male</td>\n",
       "      <td>26.899886</td>\n",
       "      <td>1.848294</td>\n",
       "      <td>120.644178</td>\n",
       "      <td>yes</td>\n",
       "      <td>yes</td>\n",
       "      <td>2.938616</td>\n",
       "      <td>3.000000</td>\n",
       "      <td>Sometimes</td>\n",
       "      <td>no</td>\n",
       "      <td>2.825629</td>\n",
       "      <td>no</td>\n",
       "      <td>0.855400</td>\n",
       "      <td>0.000000</td>\n",
       "      <td>Sometimes</td>\n",
       "      <td>Public_Transportation</td>\n",
       "    </tr>\n",
       "    <tr>\n",
       "      <th>1</th>\n",
       "      <td>20759</td>\n",
       "      <td>Female</td>\n",
       "      <td>21.000000</td>\n",
       "      <td>1.600000</td>\n",
       "      <td>66.000000</td>\n",
       "      <td>yes</td>\n",
       "      <td>yes</td>\n",
       "      <td>2.000000</td>\n",
       "      <td>1.000000</td>\n",
       "      <td>Sometimes</td>\n",
       "      <td>no</td>\n",
       "      <td>3.000000</td>\n",
       "      <td>no</td>\n",
       "      <td>1.000000</td>\n",
       "      <td>0.000000</td>\n",
       "      <td>Sometimes</td>\n",
       "      <td>Public_Transportation</td>\n",
       "    </tr>\n",
       "    <tr>\n",
       "      <th>2</th>\n",
       "      <td>20760</td>\n",
       "      <td>Female</td>\n",
       "      <td>26.000000</td>\n",
       "      <td>1.643355</td>\n",
       "      <td>111.600553</td>\n",
       "      <td>yes</td>\n",
       "      <td>yes</td>\n",
       "      <td>3.000000</td>\n",
       "      <td>3.000000</td>\n",
       "      <td>Sometimes</td>\n",
       "      <td>no</td>\n",
       "      <td>2.621877</td>\n",
       "      <td>no</td>\n",
       "      <td>0.000000</td>\n",
       "      <td>0.250502</td>\n",
       "      <td>Sometimes</td>\n",
       "      <td>Public_Transportation</td>\n",
       "    </tr>\n",
       "    <tr>\n",
       "      <th>3</th>\n",
       "      <td>20761</td>\n",
       "      <td>Male</td>\n",
       "      <td>20.979254</td>\n",
       "      <td>1.553127</td>\n",
       "      <td>103.669116</td>\n",
       "      <td>yes</td>\n",
       "      <td>yes</td>\n",
       "      <td>2.000000</td>\n",
       "      <td>2.977909</td>\n",
       "      <td>Sometimes</td>\n",
       "      <td>no</td>\n",
       "      <td>2.786417</td>\n",
       "      <td>no</td>\n",
       "      <td>0.094851</td>\n",
       "      <td>0.000000</td>\n",
       "      <td>Sometimes</td>\n",
       "      <td>Public_Transportation</td>\n",
       "    </tr>\n",
       "    <tr>\n",
       "      <th>4</th>\n",
       "      <td>20762</td>\n",
       "      <td>Female</td>\n",
       "      <td>26.000000</td>\n",
       "      <td>1.627396</td>\n",
       "      <td>104.835346</td>\n",
       "      <td>yes</td>\n",
       "      <td>yes</td>\n",
       "      <td>3.000000</td>\n",
       "      <td>3.000000</td>\n",
       "      <td>Sometimes</td>\n",
       "      <td>no</td>\n",
       "      <td>2.653531</td>\n",
       "      <td>no</td>\n",
       "      <td>0.000000</td>\n",
       "      <td>0.741069</td>\n",
       "      <td>Sometimes</td>\n",
       "      <td>Public_Transportation</td>\n",
       "    </tr>\n",
       "  </tbody>\n",
       "</table>\n",
       "</div>"
      ],
      "text/plain": [
       "      id  Gender        Age    Height      Weight  \\\n",
       "0  20758    Male  26.899886  1.848294  120.644178   \n",
       "1  20759  Female  21.000000  1.600000   66.000000   \n",
       "2  20760  Female  26.000000  1.643355  111.600553   \n",
       "3  20761    Male  20.979254  1.553127  103.669116   \n",
       "4  20762  Female  26.000000  1.627396  104.835346   \n",
       "\n",
       "  family_history_with_overweight FAVC      FCVC       NCP       CAEC SMOKE  \\\n",
       "0                            yes  yes  2.938616  3.000000  Sometimes    no   \n",
       "1                            yes  yes  2.000000  1.000000  Sometimes    no   \n",
       "2                            yes  yes  3.000000  3.000000  Sometimes    no   \n",
       "3                            yes  yes  2.000000  2.977909  Sometimes    no   \n",
       "4                            yes  yes  3.000000  3.000000  Sometimes    no   \n",
       "\n",
       "       CH2O SCC       FAF       TUE       CALC                 MTRANS  \n",
       "0  2.825629  no  0.855400  0.000000  Sometimes  Public_Transportation  \n",
       "1  3.000000  no  1.000000  0.000000  Sometimes  Public_Transportation  \n",
       "2  2.621877  no  0.000000  0.250502  Sometimes  Public_Transportation  \n",
       "3  2.786417  no  0.094851  0.000000  Sometimes  Public_Transportation  \n",
       "4  2.653531  no  0.000000  0.741069  Sometimes  Public_Transportation  "
      ]
     },
     "execution_count": 2,
     "metadata": {},
     "output_type": "execute_result"
    }
   ],
   "source": [
    "TRAIN_PATH = \"/kaggle/input/playground-series-s4e2/train.csv\"\n",
    "train = pd.read_csv(TRAIN_PATH)\n",
    "train.head()\n",
    "# check the number of features and data points in train\n",
    "print(\"Number of data points in train: %d\" % train.shape[0])\n",
    "print(\"Number of features in train: %d\" % train.shape[1])\n",
    "\n",
    "TEST_PATH = \"/kaggle/input/playground-series-s4e2/test.csv\"\n",
    "test = pd.read_csv(TEST_PATH)\n",
    "test.head()"
   ]
  },
  {
   "cell_type": "code",
   "execution_count": 3,
   "id": "5e88c90c",
   "metadata": {
    "execution": {
     "iopub.execute_input": "2024-02-21T12:20:23.403453Z",
     "iopub.status.busy": "2024-02-21T12:20:23.403078Z",
     "iopub.status.idle": "2024-02-21T12:20:25.652549Z",
     "shell.execute_reply": "2024-02-21T12:20:25.651401Z"
    },
    "papermill": {
     "duration": 2.261219,
     "end_time": "2024-02-21T12:20:25.655248",
     "exception": false,
     "start_time": "2024-02-21T12:20:23.394029",
     "status": "completed"
    },
    "tags": []
   },
   "outputs": [],
   "source": [
    "import numpy as np\n",
    "import pandas as pd\n",
    "import matplotlib.pyplot as plt # for data visualization purposes\n",
    "import seaborn as sns # for statistical data visualization\n",
    "%matplotlib inline\n",
    "import imblearn\n",
    "import datetime"
   ]
  },
  {
   "cell_type": "code",
   "execution_count": 4,
   "id": "e77dffb0",
   "metadata": {
    "execution": {
     "iopub.execute_input": "2024-02-21T12:20:25.672153Z",
     "iopub.status.busy": "2024-02-21T12:20:25.670771Z",
     "iopub.status.idle": "2024-02-21T12:20:25.683373Z",
     "shell.execute_reply": "2024-02-21T12:20:25.682368Z"
    },
    "papermill": {
     "duration": 0.023661,
     "end_time": "2024-02-21T12:20:25.686090",
     "exception": false,
     "start_time": "2024-02-21T12:20:25.662429",
     "status": "completed"
    },
    "tags": []
   },
   "outputs": [],
   "source": [
    "data_train = train.copy()\n",
    "data_test = test.copy()"
   ]
  },
  {
   "cell_type": "code",
   "execution_count": 5,
   "id": "a275ae9b",
   "metadata": {
    "execution": {
     "iopub.execute_input": "2024-02-21T12:20:25.701860Z",
     "iopub.status.busy": "2024-02-21T12:20:25.701407Z",
     "iopub.status.idle": "2024-02-21T12:20:25.745628Z",
     "shell.execute_reply": "2024-02-21T12:20:25.744206Z"
    },
    "papermill": {
     "duration": 0.055577,
     "end_time": "2024-02-21T12:20:25.748550",
     "exception": false,
     "start_time": "2024-02-21T12:20:25.692973",
     "status": "completed"
    },
    "tags": []
   },
   "outputs": [
    {
     "name": "stdout",
     "output_type": "stream",
     "text": [
      "<class 'pandas.core.frame.DataFrame'>\n",
      "RangeIndex: 13840 entries, 0 to 13839\n",
      "Data columns (total 17 columns):\n",
      " #   Column                          Non-Null Count  Dtype  \n",
      "---  ------                          --------------  -----  \n",
      " 0   id                              13840 non-null  int64  \n",
      " 1   Gender                          13840 non-null  object \n",
      " 2   Age                             13840 non-null  float64\n",
      " 3   Height                          13840 non-null  float64\n",
      " 4   Weight                          13840 non-null  float64\n",
      " 5   family_history_with_overweight  13840 non-null  object \n",
      " 6   FAVC                            13840 non-null  object \n",
      " 7   FCVC                            13840 non-null  float64\n",
      " 8   NCP                             13840 non-null  float64\n",
      " 9   CAEC                            13840 non-null  object \n",
      " 10  SMOKE                           13840 non-null  object \n",
      " 11  CH2O                            13840 non-null  float64\n",
      " 12  SCC                             13840 non-null  object \n",
      " 13  FAF                             13840 non-null  float64\n",
      " 14  TUE                             13840 non-null  float64\n",
      " 15  CALC                            13840 non-null  object \n",
      " 16  MTRANS                          13840 non-null  object \n",
      "dtypes: float64(8), int64(1), object(8)\n",
      "memory usage: 1.8+ MB\n"
     ]
    }
   ],
   "source": [
    "data_test.info()"
   ]
  },
  {
   "cell_type": "code",
   "execution_count": 6,
   "id": "44627131",
   "metadata": {
    "execution": {
     "iopub.execute_input": "2024-02-21T12:20:25.764016Z",
     "iopub.status.busy": "2024-02-21T12:20:25.763601Z",
     "iopub.status.idle": "2024-02-21T12:20:25.808649Z",
     "shell.execute_reply": "2024-02-21T12:20:25.807396Z"
    },
    "papermill": {
     "duration": 0.056065,
     "end_time": "2024-02-21T12:20:25.811514",
     "exception": false,
     "start_time": "2024-02-21T12:20:25.755449",
     "status": "completed"
    },
    "tags": []
   },
   "outputs": [],
   "source": [
    "data_train.drop(['id'], axis=1, inplace=True)\n",
    "\n",
    "data_train['Gender'] = data_train['Gender'].map({'Male': 1, 'Female': 0})\n",
    "data_train['family_history_with_overweight'] = data_train['family_history_with_overweight'].map({'yes': 1, 'no': 0})\n",
    "data_train['FAVC'] = data_train['FAVC'].map({'yes': 1, 'no': 0})\n",
    "data_train['CAEC'] = data_train['CAEC'].map({'no': 0, 'Sometimes': 1, 'Frequently': 2, 'Always': 3})\n",
    "data_train['SMOKE'] = data_train['SMOKE'].map({'yes': 1, 'no': 0})\n",
    "data_train['SCC'] = data_train['SCC'].map({'yes': 1, 'no': 0})\n",
    "data_train['CALC'] = data_train['CALC'].map({'no': 0, 'Sometimes': 1, 'Frequently': 2})\n",
    "data_train['MTRANS'] = data_train['MTRANS'].map({'Bike': 1, 'Motorbike': 2, 'Walking': 3, 'Automobile': 4, 'Public_Transportation': 5})"
   ]
  },
  {
   "cell_type": "code",
   "execution_count": 7,
   "id": "2194ddc1",
   "metadata": {
    "execution": {
     "iopub.execute_input": "2024-02-21T12:20:25.827303Z",
     "iopub.status.busy": "2024-02-21T12:20:25.826903Z",
     "iopub.status.idle": "2024-02-21T12:20:25.862589Z",
     "shell.execute_reply": "2024-02-21T12:20:25.861204Z"
    },
    "papermill": {
     "duration": 0.046885,
     "end_time": "2024-02-21T12:20:25.865454",
     "exception": false,
     "start_time": "2024-02-21T12:20:25.818569",
     "status": "completed"
    },
    "tags": []
   },
   "outputs": [],
   "source": [
    "data_test.drop(['id'], axis=1, inplace=True)\n",
    "\n",
    "data_test['Gender'] = data_test['Gender'].map({'Male': 1, 'Female': 0})\n",
    "data_test['family_history_with_overweight'] = data_test['family_history_with_overweight'].map({'yes': 1, 'no': 0})\n",
    "data_test['FAVC'] = data_test['FAVC'].map({'yes': 1, 'no': 0})\n",
    "data_test['CAEC'] = data_test['CAEC'].map({'no': 0, 'Sometimes': 1, 'Frequently': 2, 'Always': 3})\n",
    "data_test['SMOKE'] = data_test['SMOKE'].map({'yes': 1, 'no': 0})\n",
    "data_test['SCC'] = data_test['SCC'].map({'yes': 1, 'no': 0})\n",
    "data_test['CALC'] = data_test['CALC'].map({'no': 0, 'Sometimes': 1, 'Frequently': 2})\n",
    "data_test['MTRANS'] = data_test['MTRANS'].map({'Bike': 1, 'Motorbike': 2, 'Walking': 3, 'Automobile': 4, 'Public_Transportation': 5})"
   ]
  },
  {
   "cell_type": "code",
   "execution_count": 8,
   "id": "b703574f",
   "metadata": {
    "execution": {
     "iopub.execute_input": "2024-02-21T12:20:25.882202Z",
     "iopub.status.busy": "2024-02-21T12:20:25.881826Z",
     "iopub.status.idle": "2024-02-21T12:20:25.888066Z",
     "shell.execute_reply": "2024-02-21T12:20:25.886897Z"
    },
    "papermill": {
     "duration": 0.017653,
     "end_time": "2024-02-21T12:20:25.890630",
     "exception": false,
     "start_time": "2024-02-21T12:20:25.872977",
     "status": "completed"
    },
    "tags": []
   },
   "outputs": [],
   "source": [
    "data_test['CALC'] = data_test['CALC'].fillna(data_train['CALC'].mean())"
   ]
  },
  {
   "cell_type": "code",
   "execution_count": 9,
   "id": "6a8d2b93",
   "metadata": {
    "execution": {
     "iopub.execute_input": "2024-02-21T12:20:25.906675Z",
     "iopub.status.busy": "2024-02-21T12:20:25.906195Z",
     "iopub.status.idle": "2024-02-21T12:20:25.921459Z",
     "shell.execute_reply": "2024-02-21T12:20:25.920328Z"
    },
    "papermill": {
     "duration": 0.026527,
     "end_time": "2024-02-21T12:20:25.924078",
     "exception": false,
     "start_time": "2024-02-21T12:20:25.897551",
     "status": "completed"
    },
    "tags": []
   },
   "outputs": [],
   "source": [
    "from sklearn.preprocessing import LabelEncoder\n",
    "le2=LabelEncoder()\n",
    "X_train=data_train.drop('NObeyesdad',axis=1)\n",
    "Y_train=le2.fit_transform(data_train['NObeyesdad'])"
   ]
  },
  {
   "cell_type": "code",
   "execution_count": 10,
   "id": "2731949a",
   "metadata": {
    "execution": {
     "iopub.execute_input": "2024-02-21T12:20:25.939758Z",
     "iopub.status.busy": "2024-02-21T12:20:25.939368Z",
     "iopub.status.idle": "2024-02-21T12:20:26.042621Z",
     "shell.execute_reply": "2024-02-21T12:20:26.041043Z"
    },
    "papermill": {
     "duration": 0.116057,
     "end_time": "2024-02-21T12:20:26.047122",
     "exception": false,
     "start_time": "2024-02-21T12:20:25.931065",
     "status": "completed"
    },
    "tags": []
   },
   "outputs": [],
   "source": [
    "from sklearn.preprocessing import StandardScaler\n",
    "scaler = StandardScaler()\n",
    "X1 = scaler.fit_transform(X_train)\n",
    "\n",
    "from sklearn.discriminant_analysis import LinearDiscriminantAnalysis\n",
    "lda = LinearDiscriminantAnalysis()\n",
    "X_train_lda = lda.fit_transform(X1, Y_train)"
   ]
  },
  {
   "cell_type": "code",
   "execution_count": 11,
   "id": "84bf6286",
   "metadata": {
    "execution": {
     "iopub.execute_input": "2024-02-21T12:20:26.105978Z",
     "iopub.status.busy": "2024-02-21T12:20:26.105270Z",
     "iopub.status.idle": "2024-02-21T12:20:26.116187Z",
     "shell.execute_reply": "2024-02-21T12:20:26.114693Z"
    },
    "papermill": {
     "duration": 0.04746,
     "end_time": "2024-02-21T12:20:26.120616",
     "exception": false,
     "start_time": "2024-02-21T12:20:26.073156",
     "status": "completed"
    },
    "tags": []
   },
   "outputs": [],
   "source": [
    "from sklearn.linear_model import LogisticRegression\n",
    "from sklearn.model_selection import StratifiedKFold\n",
    "from sklearn.model_selection import cross_val_score\n",
    "from sklearn.model_selection import cross_val_predict\n",
    "from sklearn.metrics import f1_score\n",
    "from sklearn.metrics import confusion_matrix\n",
    "from sklearn.metrics import classification_report\n",
    "\n",
    "#classifier = LogisticRegression(penalty='l2', C=0.6, solver='liblinear', random_state=42)\n",
    "classifier = LogisticRegression(multi_class='multinomial', random_state=42, max_iter=1000)"
   ]
  },
  {
   "cell_type": "code",
   "execution_count": 12,
   "id": "bb50014a",
   "metadata": {
    "execution": {
     "iopub.execute_input": "2024-02-21T12:20:26.162945Z",
     "iopub.status.busy": "2024-02-21T12:20:26.162511Z",
     "iopub.status.idle": "2024-02-21T12:20:28.189485Z",
     "shell.execute_reply": "2024-02-21T12:20:28.188349Z"
    },
    "papermill": {
     "duration": 2.045975,
     "end_time": "2024-02-21T12:20:28.193164",
     "exception": false,
     "start_time": "2024-02-21T12:20:26.147189",
     "status": "completed"
    },
    "tags": []
   },
   "outputs": [
    {
     "data": {
      "text/html": [
       "<style>#sk-container-id-1 {color: black;background-color: white;}#sk-container-id-1 pre{padding: 0;}#sk-container-id-1 div.sk-toggleable {background-color: white;}#sk-container-id-1 label.sk-toggleable__label {cursor: pointer;display: block;width: 100%;margin-bottom: 0;padding: 0.3em;box-sizing: border-box;text-align: center;}#sk-container-id-1 label.sk-toggleable__label-arrow:before {content: \"▸\";float: left;margin-right: 0.25em;color: #696969;}#sk-container-id-1 label.sk-toggleable__label-arrow:hover:before {color: black;}#sk-container-id-1 div.sk-estimator:hover label.sk-toggleable__label-arrow:before {color: black;}#sk-container-id-1 div.sk-toggleable__content {max-height: 0;max-width: 0;overflow: hidden;text-align: left;background-color: #f0f8ff;}#sk-container-id-1 div.sk-toggleable__content pre {margin: 0.2em;color: black;border-radius: 0.25em;background-color: #f0f8ff;}#sk-container-id-1 input.sk-toggleable__control:checked~div.sk-toggleable__content {max-height: 200px;max-width: 100%;overflow: auto;}#sk-container-id-1 input.sk-toggleable__control:checked~label.sk-toggleable__label-arrow:before {content: \"▾\";}#sk-container-id-1 div.sk-estimator input.sk-toggleable__control:checked~label.sk-toggleable__label {background-color: #d4ebff;}#sk-container-id-1 div.sk-label input.sk-toggleable__control:checked~label.sk-toggleable__label {background-color: #d4ebff;}#sk-container-id-1 input.sk-hidden--visually {border: 0;clip: rect(1px 1px 1px 1px);clip: rect(1px, 1px, 1px, 1px);height: 1px;margin: -1px;overflow: hidden;padding: 0;position: absolute;width: 1px;}#sk-container-id-1 div.sk-estimator {font-family: monospace;background-color: #f0f8ff;border: 1px dotted black;border-radius: 0.25em;box-sizing: border-box;margin-bottom: 0.5em;}#sk-container-id-1 div.sk-estimator:hover {background-color: #d4ebff;}#sk-container-id-1 div.sk-parallel-item::after {content: \"\";width: 100%;border-bottom: 1px solid gray;flex-grow: 1;}#sk-container-id-1 div.sk-label:hover label.sk-toggleable__label {background-color: #d4ebff;}#sk-container-id-1 div.sk-serial::before {content: \"\";position: absolute;border-left: 1px solid gray;box-sizing: border-box;top: 0;bottom: 0;left: 50%;z-index: 0;}#sk-container-id-1 div.sk-serial {display: flex;flex-direction: column;align-items: center;background-color: white;padding-right: 0.2em;padding-left: 0.2em;position: relative;}#sk-container-id-1 div.sk-item {position: relative;z-index: 1;}#sk-container-id-1 div.sk-parallel {display: flex;align-items: stretch;justify-content: center;background-color: white;position: relative;}#sk-container-id-1 div.sk-item::before, #sk-container-id-1 div.sk-parallel-item::before {content: \"\";position: absolute;border-left: 1px solid gray;box-sizing: border-box;top: 0;bottom: 0;left: 50%;z-index: -1;}#sk-container-id-1 div.sk-parallel-item {display: flex;flex-direction: column;z-index: 1;position: relative;background-color: white;}#sk-container-id-1 div.sk-parallel-item:first-child::after {align-self: flex-end;width: 50%;}#sk-container-id-1 div.sk-parallel-item:last-child::after {align-self: flex-start;width: 50%;}#sk-container-id-1 div.sk-parallel-item:only-child::after {width: 0;}#sk-container-id-1 div.sk-dashed-wrapped {border: 1px dashed gray;margin: 0 0.4em 0.5em 0.4em;box-sizing: border-box;padding-bottom: 0.4em;background-color: white;}#sk-container-id-1 div.sk-label label {font-family: monospace;font-weight: bold;display: inline-block;line-height: 1.2em;}#sk-container-id-1 div.sk-label-container {text-align: center;}#sk-container-id-1 div.sk-container {/* jupyter's `normalize.less` sets `[hidden] { display: none; }` but bootstrap.min.css set `[hidden] { display: none !important; }` so we also need the `!important` here to be able to override the default hidden behavior on the sphinx rendered scikit-learn.org. See: https://github.com/scikit-learn/scikit-learn/issues/21755 */display: inline-block !important;position: relative;}#sk-container-id-1 div.sk-text-repr-fallback {display: none;}</style><div id=\"sk-container-id-1\" class=\"sk-top-container\"><div class=\"sk-text-repr-fallback\"><pre>LogisticRegression(max_iter=1000, multi_class=&#x27;multinomial&#x27;, random_state=42)</pre><b>In a Jupyter environment, please rerun this cell to show the HTML representation or trust the notebook. <br />On GitHub, the HTML representation is unable to render, please try loading this page with nbviewer.org.</b></div><div class=\"sk-container\" hidden><div class=\"sk-item\"><div class=\"sk-estimator sk-toggleable\"><input class=\"sk-toggleable__control sk-hidden--visually\" id=\"sk-estimator-id-1\" type=\"checkbox\" checked><label for=\"sk-estimator-id-1\" class=\"sk-toggleable__label sk-toggleable__label-arrow\">LogisticRegression</label><div class=\"sk-toggleable__content\"><pre>LogisticRegression(max_iter=1000, multi_class=&#x27;multinomial&#x27;, random_state=42)</pre></div></div></div></div></div>"
      ],
      "text/plain": [
       "LogisticRegression(max_iter=1000, multi_class='multinomial', random_state=42)"
      ]
     },
     "execution_count": 12,
     "metadata": {},
     "output_type": "execute_result"
    }
   ],
   "source": [
    "classifier.fit(X_train_lda, Y_train)"
   ]
  },
  {
   "cell_type": "code",
   "execution_count": 13,
   "id": "ac11e1f7",
   "metadata": {
    "execution": {
     "iopub.execute_input": "2024-02-21T12:20:28.225309Z",
     "iopub.status.busy": "2024-02-21T12:20:28.224612Z",
     "iopub.status.idle": "2024-02-21T12:20:28.244187Z",
     "shell.execute_reply": "2024-02-21T12:20:28.242615Z"
    },
    "papermill": {
     "duration": 0.041515,
     "end_time": "2024-02-21T12:20:28.249376",
     "exception": false,
     "start_time": "2024-02-21T12:20:28.207861",
     "status": "completed"
    },
    "tags": []
   },
   "outputs": [],
   "source": [
    "data_test_scaled = scaler.transform(data_test)"
   ]
  },
  {
   "cell_type": "code",
   "execution_count": 14,
   "id": "21d89725",
   "metadata": {
    "execution": {
     "iopub.execute_input": "2024-02-21T12:20:28.282924Z",
     "iopub.status.busy": "2024-02-21T12:20:28.282247Z",
     "iopub.status.idle": "2024-02-21T12:20:28.296019Z",
     "shell.execute_reply": "2024-02-21T12:20:28.294449Z"
    },
    "papermill": {
     "duration": 0.035792,
     "end_time": "2024-02-21T12:20:28.300665",
     "exception": false,
     "start_time": "2024-02-21T12:20:28.264873",
     "status": "completed"
    },
    "tags": []
   },
   "outputs": [],
   "source": [
    "X_test_lda = lda.transform(data_test_scaled)"
   ]
  },
  {
   "cell_type": "code",
   "execution_count": 15,
   "id": "58efc914",
   "metadata": {
    "execution": {
     "iopub.execute_input": "2024-02-21T12:20:28.332417Z",
     "iopub.status.busy": "2024-02-21T12:20:28.331751Z",
     "iopub.status.idle": "2024-02-21T12:20:30.541354Z",
     "shell.execute_reply": "2024-02-21T12:20:30.539772Z"
    },
    "papermill": {
     "duration": 2.230549,
     "end_time": "2024-02-21T12:20:30.545781",
     "exception": false,
     "start_time": "2024-02-21T12:20:28.315232",
     "status": "completed"
    },
    "tags": []
   },
   "outputs": [],
   "source": [
    "classifier.fit(X_train_lda, Y_train)\n",
    "Y_test_pred = classifier.predict(X_test_lda)\n",
    "\n",
    "predictions=le2.inverse_transform(Y_test_pred)"
   ]
  },
  {
   "cell_type": "code",
   "execution_count": 16,
   "id": "3a350d89",
   "metadata": {
    "execution": {
     "iopub.execute_input": "2024-02-21T12:20:30.578696Z",
     "iopub.status.busy": "2024-02-21T12:20:30.577976Z",
     "iopub.status.idle": "2024-02-21T12:20:30.673343Z",
     "shell.execute_reply": "2024-02-21T12:20:30.672218Z"
    },
    "papermill": {
     "duration": 0.114662,
     "end_time": "2024-02-21T12:20:30.675992",
     "exception": false,
     "start_time": "2024-02-21T12:20:30.561330",
     "status": "completed"
    },
    "tags": []
   },
   "outputs": [
    {
     "data": {
      "text/html": [
       "<div>\n",
       "<style scoped>\n",
       "    .dataframe tbody tr th:only-of-type {\n",
       "        vertical-align: middle;\n",
       "    }\n",
       "\n",
       "    .dataframe tbody tr th {\n",
       "        vertical-align: top;\n",
       "    }\n",
       "\n",
       "    .dataframe thead th {\n",
       "        text-align: right;\n",
       "    }\n",
       "</style>\n",
       "<table border=\"1\" class=\"dataframe\">\n",
       "  <thead>\n",
       "    <tr style=\"text-align: right;\">\n",
       "      <th></th>\n",
       "      <th>id</th>\n",
       "      <th>NObeyesdad</th>\n",
       "    </tr>\n",
       "  </thead>\n",
       "  <tbody>\n",
       "    <tr>\n",
       "      <th>0</th>\n",
       "      <td>20758</td>\n",
       "      <td>Obesity_Type_II</td>\n",
       "    </tr>\n",
       "    <tr>\n",
       "      <th>1</th>\n",
       "      <td>20759</td>\n",
       "      <td>Overweight_Level_I</td>\n",
       "    </tr>\n",
       "    <tr>\n",
       "      <th>2</th>\n",
       "      <td>20760</td>\n",
       "      <td>Obesity_Type_III</td>\n",
       "    </tr>\n",
       "    <tr>\n",
       "      <th>3</th>\n",
       "      <td>20761</td>\n",
       "      <td>Obesity_Type_I</td>\n",
       "    </tr>\n",
       "    <tr>\n",
       "      <th>4</th>\n",
       "      <td>20762</td>\n",
       "      <td>Obesity_Type_III</td>\n",
       "    </tr>\n",
       "  </tbody>\n",
       "</table>\n",
       "</div>"
      ],
      "text/plain": [
       "      id          NObeyesdad\n",
       "0  20758     Obesity_Type_II\n",
       "1  20759  Overweight_Level_I\n",
       "2  20760    Obesity_Type_III\n",
       "3  20761      Obesity_Type_I\n",
       "4  20762    Obesity_Type_III"
      ]
     },
     "execution_count": 16,
     "metadata": {},
     "output_type": "execute_result"
    }
   ],
   "source": [
    "submission = pd.read_csv(\"/kaggle/input/playground-series-s4e2/sample_submission.csv\")\n",
    "submission[\"NObeyesdad\"] = predictions\n",
    "submission.to_csv(\"submission1.csv\", index=False)\n",
    "submission.head()"
   ]
  }
 ],
 "metadata": {
  "kaggle": {
   "accelerator": "none",
   "dataSources": [
    {
     "databundleVersionId": 7609535,
     "sourceId": 68479,
     "sourceType": "competition"
    }
   ],
   "dockerImageVersionId": 30646,
   "isGpuEnabled": false,
   "isInternetEnabled": true,
   "language": "python",
   "sourceType": "notebook"
  },
  "kernelspec": {
   "display_name": "Python 3",
   "language": "python",
   "name": "python3"
  },
  "language_info": {
   "codemirror_mode": {
    "name": "ipython",
    "version": 3
   },
   "file_extension": ".py",
   "mimetype": "text/x-python",
   "name": "python",
   "nbconvert_exporter": "python",
   "pygments_lexer": "ipython3",
   "version": "3.10.13"
  },
  "papermill": {
   "default_parameters": {},
   "duration": 12.270703,
   "end_time": "2024-02-21T12:20:31.406135",
   "environment_variables": {},
   "exception": null,
   "input_path": "__notebook__.ipynb",
   "output_path": "__notebook__.ipynb",
   "parameters": {},
   "start_time": "2024-02-21T12:20:19.135432",
   "version": "2.5.0"
  }
 },
 "nbformat": 4,
 "nbformat_minor": 5
}
